{
 "cells": [
  {
   "cell_type": "code",
   "execution_count": null,
   "id": "dc05f4a2",
   "metadata": {
    "lines_to_next_cell": 0
   },
   "outputs": [],
   "source": [
    "#PARTE 0: ESTABLECER DIRECTORIO DE TRABAJO\n"
   ]
  },
  {
   "cell_type": "code",
   "execution_count": null,
   "id": "4cfe46d0",
   "metadata": {},
   "outputs": [],
   "source": [
    "import os \n",
    "print(os.chdir(\"G:\\\\dHondt\"))"
   ]
  },
  {
   "cell_type": "code",
   "execution_count": null,
   "id": "27e223f2",
   "metadata": {},
   "outputs": [],
   "source": [
    "print('Directorio de trabajo: ',os.getcwd())\n"
   ]
  },
  {
   "cell_type": "code",
   "execution_count": null,
   "id": "2c4e0b4d",
   "metadata": {
    "lines_to_next_cell": 2
   },
   "outputs": [],
   "source": [
    "#PARTE I: IMPORTACIÓN DE DATOS"
   ]
  },
  {
   "cell_type": "code",
   "execution_count": null,
   "id": "2880ab8e",
   "metadata": {
    "lines_to_next_cell": 2
   },
   "outputs": [],
   "source": [
    "#importar datos de las elecciones. Son del Ministerio del Interior adaptados\n",
    "import pandas as pd\n",
    "import warnings\n",
    "import os \n",
    "os.chdir(\"G:\\HONDT\")\n",
    "#importar datos de las elecciones. Son del Ministerio del Interior adaptados\n",
    "while True:\n",
    "    voto=input ('introduce el nombre del fichero de resultados de la votación: ')\n",
    "    year=input('y el año: ')\n",
    "    votos=voto+year+'.xlsx'\n",
    "    try:\n",
    "        print('nombre del fichero: ',votos)\n",
    "        df0 = pd.read_excel(votos,header=0)\n",
    "        break\n",
    "    except:\n",
    "        print('no existe')\n",
    "\n",
    "df0.head()#df0 es el resultado de las elecciones "
   ]
  },
  {
   "cell_type": "code",
   "execution_count": null,
   "id": "7ac1f137",
   "metadata": {},
   "outputs": [],
   "source": [
    "# importar partidos por grupo\n",
    "parties=input ('introduce el nombre del fichero de partidos: ')\n",
    "year=input('y el año: ')\n",
    "party=parties+year+'.xlsx'\n",
    "    \n",
    "try:\n",
    "    print('nombre del fichero: ',party)\n",
    "    df2 = pd.read_excel(party)\n",
    "except:\n",
    "    print('no existe')\n",
    "df2.head()#df2 es la lista de partidos y grupos \n",
    "\n",
    "#genero la lista de claves de partidos\n",
    "l=[]\n",
    "for item in df2:\n",
    "    l.append(str(item))\n",
    "     \n"
   ]
  },
  {
   "cell_type": "code",
   "execution_count": null,
   "id": "3d45fc7f",
   "metadata": {},
   "outputs": [],
   "source": [
    "df2.head()"
   ]
  },
  {
   "cell_type": "code",
   "execution_count": null,
   "id": "2e269d9c",
   "metadata": {},
   "outputs": [],
   "source": []
  },
  {
   "cell_type": "code",
   "execution_count": null,
   "id": "041066f6",
   "metadata": {
    "lines_to_next_cell": 2
   },
   "outputs": [],
   "source": [
    "party1=set(df2.loc[1])\n",
    "grupos=list(party1)\n",
    "party2=pd.Series(df2.columns.values,index=df2.columns.values)\n",
    "party2=pd.DataFrame(party2)"
   ]
  },
  {
   "cell_type": "code",
   "execution_count": null,
   "id": "32aa2764",
   "metadata": {
    "lines_to_next_cell": 2
   },
   "outputs": [],
   "source": [
    "#añado a cada partdo un número de identificación que será el usado en adelante\n",
    "warnings.filterwarnings(\"ignore\")\n",
    "df2=pd.concat([df2,pd.DataFrame(party2.T)],ignore_index=True).copy()"
   ]
  },
  {
   "cell_type": "code",
   "execution_count": null,
   "id": "e6106202",
   "metadata": {},
   "outputs": [],
   "source": [
    "party2.T.head()"
   ]
  },
  {
   "cell_type": "code",
   "execution_count": null,
   "id": "a4baf3d7",
   "metadata": {},
   "outputs": [],
   "source": [
    "df2.head()"
   ]
  },
  {
   "cell_type": "code",
   "execution_count": null,
   "id": "cb465112",
   "metadata": {
    "lines_to_next_cell": 2
   },
   "outputs": [],
   "source": [
    "#definimos función que permita conocer la estructura de un DataFrame. Es muy\n",
    "#necesario para construir Data Frames.\n",
    "def estructura(my_Frame):\n",
    "    A=[]\n",
    "    B=[]\n",
    "    C=[]\n",
    "    my_Frame=my_Frame.keys()\n",
    "    my_List=list(my_Frame)\n",
    "    for i in range (len(my_List)):\n",
    "        A.append(my_List[i])\n",
    "        B.append(i)\n",
    "    col_list=list(zip(B,A))\n",
    "   #print('Longitud:',len(col_list),'\\n', 'Posición y labels:','\\n',col_list)\n",
    "    return col_list"
   ]
  },
  {
   "cell_type": "code",
   "execution_count": null,
   "id": "82043918",
   "metadata": {
    "lines_to_next_cell": 2
   },
   "outputs": [],
   "source": [
    "estructura(df0)#da una lista de diccionarios donde cada diccionario es un\n",
    "#número:nombre de columna."
   ]
  },
  {
   "cell_type": "code",
   "execution_count": null,
   "id": "990a5ce1",
   "metadata": {
    "lines_to_next_cell": 2
   },
   "outputs": [],
   "source": [
    "#creamos dos variables para número de provincias y de partidos\n",
    "N_PROV=len(df0)\n",
    "N_PARTIDOS=len(df2.T)\n",
    "print(N_PROV,N_PARTIDOS)"
   ]
  },
  {
   "cell_type": "code",
   "execution_count": null,
   "id": "9c3b72c6",
   "metadata": {
    "lines_to_next_cell": 2
   },
   "outputs": [],
   "source": [
    "#renombramos algunas columnas\n",
    "df0.rename(columns={'Nombre de Comunidad':'COMUNIDAD','Código de Provincia': 'NPROVINCIA',\n",
    "'Nombre de Provincia':'PROVINCIA','Total censo electoral': 'CENSO_ELECTORAL',\n",
    "'Total votantes':'TOTAL_VOTANTES',\n",
    "'Votos en blanco':'VOTOS_BLANCOS','Votos válidos':'VOTOS_VÁLIDOS','Diputados':'DIPUTADOS',\n",
    "'Población':'POBLACIÓN','Votos a candidaturas':'VOTOS A CANDIDATURAS',\n",
    "'Votos nulos':'VOTOS NULOS','Diputados':'DIPUTADOS'},\n",
    "inplace=True )"
   ]
  },
  {
   "cell_type": "code",
   "execution_count": null,
   "id": "4891d7bc",
   "metadata": {},
   "outputs": [],
   "source": [
    "#extraemos las columnas que nos serán necesarias para aplicar el método d'Hondt\n",
    "W1=[]#datos de provincia y votos de cada partidos\n",
    "W2=[]#escaños de cada partido\n",
    "for i in range(0,17):\n",
    "    W1.append(df0.loc[0].keys()[i])\n",
    "for i in range(17,151):\n",
    "    if ('Votos' in df0.loc[0].keys()[i]):\n",
    "        W1.append(df0.loc[0].keys()[i])\n",
    "for i in range(17,151):    \n",
    "    if ('Diputados' in df0.loc[0].keys()[i]):\n",
    "        W2.append(df0.loc[0].keys()[i])\n",
    "\n",
    "print(W1)\n",
    "print(W2)\n"
   ]
  },
  {
   "cell_type": "code",
   "execution_count": null,
   "id": "04c40987",
   "metadata": {
    "lines_to_next_cell": 2
   },
   "outputs": [],
   "source": [
    "Y=[]#nombres de columnas con los votos a cada partido\n",
    "for x in range(17,84):\n",
    "    if ('Votos' in W1[x]):\n",
    "        Y.append(W1[x])"
   ]
  },
  {
   "cell_type": "code",
   "execution_count": null,
   "id": "c6ef862c",
   "metadata": {
    "lines_to_next_cell": 2
   },
   "outputs": [],
   "source": [
    "#modificamos df0 el Data Frame que sirve de base a la asignación de escaño y\n",
    "#que contiene los datos de circunscripción y los votos y diputados\n",
    "\n",
    "DF1 = pd.DataFrame(data=None, columns=df0.columns, index=df0.index)\n",
    "DF2 = pd.DataFrame(data=None, columns=df0.columns, index=df0.index)\n",
    "for i in range(N_PROV):\n",
    "    for x in W1:\n",
    "        DF1.loc[i][x]=df0.loc[i][x]\n",
    "for i in range(N_PROV):\n",
    "    for x in W2:\n",
    "        DF2.loc[i][x]=df0.loc[i][x]\n",
    "DF1=DF1.dropna(axis=1,how='all')\n",
    "DF2=DF2.dropna(axis=1,how='all')\n",
    "df0=pd.concat([DF1,DF2],axis=1)"
   ]
  },
  {
   "cell_type": "code",
   "execution_count": null,
   "id": "5027c709",
   "metadata": {
    "lines_to_next_cell": 2
   },
   "outputs": [],
   "source": [
    "estructura(df0)"
   ]
  },
  {
   "cell_type": "code",
   "execution_count": null,
   "id": "d5d565c0",
   "metadata": {
    "lines_to_next_cell": 2
   },
   "outputs": [],
   "source": [
    "#inserto participación por provincia\n",
    "df0.insert(loc = 13,\n",
    "          column = '%PARTICIPACIÓN',\n",
    "          value =df0['TOTAL_VOTANTES']/df0['CENSO_ELECTORAL'])"
   ]
  },
  {
   "cell_type": "code",
   "execution_count": null,
   "id": "1c33da13",
   "metadata": {
    "lines_to_next_cell": 2
   },
   "outputs": [],
   "source": [
    "df0.loc[30]['%PARTICIPACIÓN']"
   ]
  },
  {
   "cell_type": "code",
   "execution_count": null,
   "id": "e2b0df0c",
   "metadata": {
    "lines_to_next_cell": 2
   },
   "outputs": [],
   "source": [
    "dfaux0=df0[W1[0:17]]#datos censales y resumidos por provincia"
   ]
  },
  {
   "cell_type": "code",
   "execution_count": null,
   "id": "41e8bc08",
   "metadata": {
    "lines_to_next_cell": 2
   },
   "outputs": [],
   "source": [
    "W1[17:]#votos"
   ]
  },
  {
   "cell_type": "code",
   "execution_count": null,
   "id": "73890067",
   "metadata": {},
   "outputs": [],
   "source": [
    "dfaux1=df0[W1[17:]]"
   ]
  },
  {
   "cell_type": "code",
   "execution_count": null,
   "id": "f47df723",
   "metadata": {
    "lines_to_next_cell": 2
   },
   "outputs": [],
   "source": [
    "Var=dict(zip(W1[17:],l))#diccionario que asigna votos a \n",
    "#identificación numérica de partido"
   ]
  },
  {
   "cell_type": "code",
   "execution_count": null,
   "id": "187a2f38",
   "metadata": {},
   "outputs": [],
   "source": [
    "Var"
   ]
  },
  {
   "cell_type": "code",
   "execution_count": null,
   "id": "8d033003",
   "metadata": {
    "lines_to_next_cell": 2
   },
   "outputs": [],
   "source": [
    "dfaux2=df0[W2[0:]]"
   ]
  },
  {
   "cell_type": "code",
   "execution_count": null,
   "id": "3f44bc33",
   "metadata": {
    "lines_to_next_cell": 2
   },
   "outputs": [],
   "source": [
    "#df0\n",
    "\n",
    "df0=pd.concat([dfaux0,dfaux1,dfaux2], axis=1)"
   ]
  },
  {
   "cell_type": "code",
   "execution_count": null,
   "id": "4e51fc64",
   "metadata": {},
   "outputs": [],
   "source": [
    "estructura(df0)"
   ]
  },
  {
   "cell_type": "code",
   "execution_count": null,
   "id": "04ff6f7a",
   "metadata": {
    "lines_to_next_cell": 2
   },
   "outputs": [],
   "source": [
    "#eliminamos ciertas columnas innecesarias (Censo CERA, Mesas Electorales...)\n",
    "\n",
    "df0 = df0.drop(df0.columns[[ 4,5,6,8,9,10]], axis=1)"
   ]
  },
  {
   "cell_type": "code",
   "execution_count": null,
   "id": "e1454177",
   "metadata": {
    "lines_to_next_cell": 2
   },
   "outputs": [],
   "source": [
    "estructura(df0)"
   ]
  },
  {
   "cell_type": "code",
   "execution_count": null,
   "id": "2791f133",
   "metadata": {
    "lines_to_next_cell": 2
   },
   "outputs": [],
   "source": [
    "#inserto número de partidos\n",
    "df0.insert(loc = 4,\n",
    "          column = 'NPARTIDOS',\n",
    "          value =N_PARTIDOS)"
   ]
  },
  {
   "cell_type": "code",
   "execution_count": null,
   "id": "0cd96de0",
   "metadata": {
    "lines_to_next_cell": 2
   },
   "outputs": [],
   "source": [
    "#partidos con más del 3% de votos\n",
    "df0.insert(loc = 5,\n",
    "          column = 'PARTIDOS>3',\n",
    "          value =0)"
   ]
  },
  {
   "cell_type": "code",
   "execution_count": null,
   "id": "f3469086",
   "metadata": {},
   "outputs": [],
   "source": [
    "df0.loc[1][:]"
   ]
  },
  {
   "cell_type": "code",
   "execution_count": null,
   "id": "4eb09365",
   "metadata": {},
   "outputs": [],
   "source": [
    "df0.rename(columns=Var, inplace=True)"
   ]
  },
  {
   "cell_type": "code",
   "execution_count": null,
   "id": "f87498d7",
   "metadata": {
    "lines_to_next_cell": 2
   },
   "outputs": [],
   "source": [
    "for x in l:\n",
    "    columna='%'+x\n",
    "    df0[columna]=df0[x]/df0['VOTOS_VÁLIDOS']"
   ]
  }
 ],
 "metadata": {
  "jupytext": {
   "cell_metadata_filter": "-all",
   "encoding": "# coding: utf-8",
   "executable": "/usr/bin/env python",
   "formats": "ipynb,auto:percent",
   "main_language": "python",
   "notebook_metadata_filter": "-all"
  },
  "kernelspec": {
   "display_name": "Python 3 (ipykernel)",
   "language": "python",
   "name": "python3"
  },
  "language_info": {
   "codemirror_mode": {
    "name": "ipython",
    "version": 3
   },
   "file_extension": ".py",
   "mimetype": "text/x-python",
   "name": "python",
   "nbconvert_exporter": "python",
   "pygments_lexer": "ipython3",
   "version": "3.11.3"
  }
 },
 "nbformat": 4,
 "nbformat_minor": 5
}
