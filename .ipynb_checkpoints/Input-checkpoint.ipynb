{
 "cells": [
  {
   "cell_type": "code",
   "execution_count": null,
   "id": "9c4562f6",
   "metadata": {},
   "outputs": [],
   "source": [
    "#PARTE 0: IMPORTACIÓN DE PAQUETES Y ESTABLECER DIRECTORIO DE TRABAJO"
   ]
  },
  {
   "cell_type": "code",
   "execution_count": 1,
   "id": "95ebea5b",
   "metadata": {},
   "outputs": [],
   "source": [
    "#importar paquetes y definir directorio\n",
    "import pandas as pd\n",
    "import numpy as np\n",
    "import copy\n",
    "import csv\n",
    "import os \n",
    "import xlrd\n",
    "import math\n",
    "import random\n",
    "import collections\n",
    "import warnings\n",
    "import re\n",
    "os.chdir(\"G:\\HONDT\")"
   ]
  },
  {
   "cell_type": "code",
   "execution_count": null,
   "id": "203b97b3",
   "metadata": {},
   "outputs": [],
   "source": [
    "#PARTE I: IMPORTACIÓN DE DATOS"
   ]
  },
  {
   "cell_type": "code",
   "execution_count": 2,
   "id": "832cedd8",
   "metadata": {},
   "outputs": [
    {
     "name": "stdout",
     "output_type": "stream",
     "text": [
      "introduce el nombre del fichero de resultados de la votación: Elecciones\n",
      "y el año: 2019\n",
      "nombre del fichero:  G:\\HONDT\\Elecciones2019.xlsx\n"
     ]
    },
    {
     "data": {
      "text/html": [
       "<div>\n",
       "<style scoped>\n",
       "    .dataframe tbody tr th:only-of-type {\n",
       "        vertical-align: middle;\n",
       "    }\n",
       "\n",
       "    .dataframe tbody tr th {\n",
       "        vertical-align: top;\n",
       "    }\n",
       "\n",
       "    .dataframe thead th {\n",
       "        text-align: right;\n",
       "    }\n",
       "</style>\n",
       "<table border=\"1\" class=\"dataframe\">\n",
       "  <thead>\n",
       "    <tr style=\"text-align: right;\">\n",
       "      <th></th>\n",
       "      <th>Nombre de Comunidad</th>\n",
       "      <th>Código de Provincia</th>\n",
       "      <th>Nombre de Provincia</th>\n",
       "      <th>Población</th>\n",
       "      <th>Número de mesas</th>\n",
       "      <th>Censo electoral sin CERA</th>\n",
       "      <th>Censo CERA</th>\n",
       "      <th>Total censo electoral</th>\n",
       "      <th>Solicitudes voto CERA aceptadas</th>\n",
       "      <th>Total votantes CER</th>\n",
       "      <th>...</th>\n",
       "      <th>63Votos</th>\n",
       "      <th>63Diputados</th>\n",
       "      <th>64Votos</th>\n",
       "      <th>64Diputados</th>\n",
       "      <th>65Votos</th>\n",
       "      <th>65Diputados</th>\n",
       "      <th>66Votos</th>\n",
       "      <th>66Diputados</th>\n",
       "      <th>67Votos</th>\n",
       "      <th>67Diputados</th>\n",
       "    </tr>\n",
       "  </thead>\n",
       "  <tbody>\n",
       "    <tr>\n",
       "      <th>0</th>\n",
       "      <td>Andalucía</td>\n",
       "      <td>4</td>\n",
       "      <td>Almería</td>\n",
       "      <td>709340</td>\n",
       "      <td>809</td>\n",
       "      <td>460639</td>\n",
       "      <td>41988</td>\n",
       "      <td>502627</td>\n",
       "      <td>2923</td>\n",
       "      <td>303481</td>\n",
       "      <td>...</td>\n",
       "      <td>0</td>\n",
       "      <td>0</td>\n",
       "      <td>0</td>\n",
       "      <td>0</td>\n",
       "      <td>0</td>\n",
       "      <td>0</td>\n",
       "      <td>0</td>\n",
       "      <td>0</td>\n",
       "      <td>0</td>\n",
       "      <td>0</td>\n",
       "    </tr>\n",
       "    <tr>\n",
       "      <th>1</th>\n",
       "      <td>Andalucía</td>\n",
       "      <td>11</td>\n",
       "      <td>Cádiz</td>\n",
       "      <td>1238714</td>\n",
       "      <td>1520</td>\n",
       "      <td>973238</td>\n",
       "      <td>29057</td>\n",
       "      <td>1002295</td>\n",
       "      <td>3485</td>\n",
       "      <td>621965</td>\n",
       "      <td>...</td>\n",
       "      <td>0</td>\n",
       "      <td>0</td>\n",
       "      <td>0</td>\n",
       "      <td>0</td>\n",
       "      <td>0</td>\n",
       "      <td>0</td>\n",
       "      <td>0</td>\n",
       "      <td>0</td>\n",
       "      <td>0</td>\n",
       "      <td>0</td>\n",
       "    </tr>\n",
       "    <tr>\n",
       "      <th>2</th>\n",
       "      <td>Andalucía</td>\n",
       "      <td>14</td>\n",
       "      <td>Córdoba</td>\n",
       "      <td>785240</td>\n",
       "      <td>935</td>\n",
       "      <td>630033</td>\n",
       "      <td>18308</td>\n",
       "      <td>648341</td>\n",
       "      <td>2358</td>\n",
       "      <td>450124</td>\n",
       "      <td>...</td>\n",
       "      <td>0</td>\n",
       "      <td>0</td>\n",
       "      <td>0</td>\n",
       "      <td>0</td>\n",
       "      <td>0</td>\n",
       "      <td>0</td>\n",
       "      <td>0</td>\n",
       "      <td>0</td>\n",
       "      <td>0</td>\n",
       "      <td>0</td>\n",
       "    </tr>\n",
       "    <tr>\n",
       "      <th>3</th>\n",
       "      <td>Andalucía</td>\n",
       "      <td>18</td>\n",
       "      <td>Granada</td>\n",
       "      <td>912075</td>\n",
       "      <td>1100</td>\n",
       "      <td>704847</td>\n",
       "      <td>50160</td>\n",
       "      <td>755007</td>\n",
       "      <td>4827</td>\n",
       "      <td>487734</td>\n",
       "      <td>...</td>\n",
       "      <td>0</td>\n",
       "      <td>0</td>\n",
       "      <td>0</td>\n",
       "      <td>0</td>\n",
       "      <td>113</td>\n",
       "      <td>0</td>\n",
       "      <td>0</td>\n",
       "      <td>0</td>\n",
       "      <td>0</td>\n",
       "      <td>0</td>\n",
       "    </tr>\n",
       "    <tr>\n",
       "      <th>4</th>\n",
       "      <td>Andalucía</td>\n",
       "      <td>21</td>\n",
       "      <td>Huelva</td>\n",
       "      <td>519932</td>\n",
       "      <td>650</td>\n",
       "      <td>391497</td>\n",
       "      <td>7522</td>\n",
       "      <td>399019</td>\n",
       "      <td>914</td>\n",
       "      <td>254766</td>\n",
       "      <td>...</td>\n",
       "      <td>0</td>\n",
       "      <td>0</td>\n",
       "      <td>0</td>\n",
       "      <td>0</td>\n",
       "      <td>0</td>\n",
       "      <td>0</td>\n",
       "      <td>0</td>\n",
       "      <td>0</td>\n",
       "      <td>0</td>\n",
       "      <td>0</td>\n",
       "    </tr>\n",
       "  </tbody>\n",
       "</table>\n",
       "<p>5 rows × 151 columns</p>\n",
       "</div>"
      ],
      "text/plain": [
       "              Nombre de Comunidad  Código de Provincia  \\\n",
       "0  Andalucía                                         4   \n",
       "1  Andalucía                                        11   \n",
       "2  Andalucía                                        14   \n",
       "3  Andalucía                                        18   \n",
       "4  Andalucía                                        21   \n",
       "\n",
       "              Nombre de Provincia  Población  Número de mesas  \\\n",
       "0  Almería                            709340              809   \n",
       "1  Cádiz                             1238714             1520   \n",
       "2  Córdoba                            785240              935   \n",
       "3  Granada                            912075             1100   \n",
       "4  Huelva                             519932              650   \n",
       "\n",
       "   Censo electoral sin CERA  Censo CERA  Total censo electoral  \\\n",
       "0                    460639       41988                 502627   \n",
       "1                    973238       29057                1002295   \n",
       "2                    630033       18308                 648341   \n",
       "3                    704847       50160                 755007   \n",
       "4                    391497        7522                 399019   \n",
       "\n",
       "   Solicitudes voto CERA aceptadas  Total votantes CER  ...  63Votos  \\\n",
       "0                             2923              303481  ...        0   \n",
       "1                             3485              621965  ...        0   \n",
       "2                             2358              450124  ...        0   \n",
       "3                             4827              487734  ...        0   \n",
       "4                              914              254766  ...        0   \n",
       "\n",
       "   63Diputados  64Votos  64Diputados  65Votos  65Diputados  66Votos  \\\n",
       "0            0        0            0        0            0        0   \n",
       "1            0        0            0        0            0        0   \n",
       "2            0        0            0        0            0        0   \n",
       "3            0        0            0      113            0        0   \n",
       "4            0        0            0        0            0        0   \n",
       "\n",
       "   66Diputados  67Votos  67Diputados  \n",
       "0            0        0            0  \n",
       "1            0        0            0  \n",
       "2            0        0            0  \n",
       "3            0        0            0  \n",
       "4            0        0            0  \n",
       "\n",
       "[5 rows x 151 columns]"
      ]
     },
     "execution_count": 2,
     "metadata": {},
     "output_type": "execute_result"
    }
   ],
   "source": [
    "#importar datos de las elecciones. Son del Ministerio del Interior adaptados\n",
    "while True:\n",
    "    voto=input ('introduce el nombre del fichero de resultados de la votación: ')\n",
    "    year=input('y el año: ')\n",
    "    #votos=voto+year+'.xlsx'\n",
    "    votos=os.path.join('G:\\HONDT', voto+year + '.' + 'xlsx')   \n",
    "    try:\n",
    "        print('nombre del fichero: ',votos)\n",
    "        df1 = pd.read_excel(votos,header=0)\n",
    "        break\n",
    "    except:\n",
    "        print('no existe')\n",
    "df1.head() "
   ]
  },
  {
   "cell_type": "code",
   "execution_count": null,
   "id": "9c35334e",
   "metadata": {},
   "outputs": [],
   "source": [
    "# importar partidos por grupo\n",
    "\n",
    "parties=input ('introduce el nombre del fichero de partidos: ')\n",
    "year=input('y el año: ')\n",
    "party=parties+year+'.xlsx'\n",
    "    \n",
    "try:\n",
    "    print('nombre del fichero: ',party)\n",
    "    df2 = pd.read_excel(party)\n",
    "except:\n",
    "    print('no existe')\n",
    "df2.head() \n",
    "\n",
    "#genero la lista de claves de partidos\n",
    "l=[]\n",
    "for item in df2:\n",
    "    l.append(str(item))\n",
    "     "
   ]
  },
  {
   "cell_type": "code",
   "execution_count": null,
   "id": "a9904815",
   "metadata": {},
   "outputs": [],
   "source": [
    "df2"
   ]
  },
  {
   "cell_type": "code",
   "execution_count": null,
   "id": "31b94921",
   "metadata": {},
   "outputs": [],
   "source": [
    "#definimos función que permita conocer la estructura de un DataFrame\n",
    "def estructura(my_Frame):\n",
    "    A=[]\n",
    "    B=[]\n",
    "    C=[]\n",
    "    my_Frame=my_Frame.keys()\n",
    "    my_List=list(my_Frame)\n",
    "    for i in range (len(my_List)):\n",
    "        A.append(my_List[i])\n",
    "        B.append(i)\n",
    "    col_list=list(zip(B,A))\n",
    "   #print('Longitud:',len(col_list),'\\n', 'Posición y labels:','\\n',col_list)\n",
    "    return col_list"
   ]
  },
  {
   "cell_type": "code",
   "execution_count": null,
   "id": "3a41bd80",
   "metadata": {},
   "outputs": [],
   "source": [
    "estructura(df1)"
   ]
  },
  {
   "cell_type": "code",
   "execution_count": null,
   "id": "b8e99c05",
   "metadata": {},
   "outputs": [],
   "source": [
    "N_PROV=len(df1)\n",
    "N_PARTIDOS=67"
   ]
  },
  {
   "cell_type": "code",
   "execution_count": null,
   "id": "602839c1",
   "metadata": {},
   "outputs": [],
   "source": [
    "df1.rename(columns={'Código de Provincia': 'NPROVINCIA',\n",
    "'Nombre de Provincia':'PROVINCIA','Total censo electoral': 'CENSO_ELECTORAL',\n",
    "'Total votantes':'TOTAL_VOTANTES',\n",
    "'Votos en blanco':'VOTOS_BLANCOS','Votos válidos':'VOTOS_VÁLIDOS','Diputados':'DIPUTADOS',\n",
    "'Población':'POBLACIÓN','Votos a candidaturas':'VOTOS A CANDIDATURAS',\n",
    "'Votos nulos':'VOTOS NULOS','Diputados':'DIPUTADOS'},\n",
    "inplace=True )"
   ]
  },
  {
   "cell_type": "code",
   "execution_count": null,
   "id": "0e387b86",
   "metadata": {},
   "outputs": [],
   "source": [
    "W1=[]\n",
    "W2=[]\n",
    "for i in range(0,17):\n",
    "    W1.append(df1.loc[0].keys()[i])\n",
    "for i in range(17,151):\n",
    "    if ('Votos' in df1.loc[0].keys()[i]):\n",
    "        W1.append(df1.loc[0].keys()[i])\n",
    "for i in range(17,151):    \n",
    "    if ('Diputados' in df1.loc[0].keys()[i]):\n",
    "        W2.append(df1.loc[0].keys()[i])\n",
    "\n",
    "print(W1)\n",
    "print(W2)\n",
    "   "
   ]
  },
  {
   "cell_type": "code",
   "execution_count": null,
   "id": "e90df35b",
   "metadata": {},
   "outputs": [],
   "source": [
    "Y=[]\n",
    "for x in range(17,84):\n",
    "    if ('Votos' in W1[x]):\n",
    "        Y.append(W1[x])\n",
    "for x in range(0,67):\n",
    "    Y[x]=re.sub('Votos', '', Y[x])"
   ]
  },
  {
   "cell_type": "code",
   "execution_count": null,
   "id": "0fbb9287",
   "metadata": {},
   "outputs": [],
   "source": [
    "DF1 = pd.DataFrame(data=None, columns=df1.columns, index=df1.index)\n",
    "DF2 = pd.DataFrame(data=None, columns=df1.columns, index=df1.index)\n",
    "for i in range(N_PROV):\n",
    "    for x in W1:\n",
    "        DF1.loc[i][x]=df1.loc[i][x]\n",
    "for i in range(N_PROV):\n",
    "    for x in W2:\n",
    "        DF2.loc[i][x]=df1.loc[i][x]\n",
    "DF1=DF1.dropna(axis=1,how='all')\n",
    "DF2=DF2.dropna(axis=1,how='all')\n",
    "df1=pd.concat([DF1,DF2],axis=1)"
   ]
  },
  {
   "cell_type": "code",
   "execution_count": null,
   "id": "0aaec435",
   "metadata": {},
   "outputs": [],
   "source": [
    "df1.fillna(0).head()"
   ]
  },
  {
   "cell_type": "code",
   "execution_count": null,
   "id": "a226aa67",
   "metadata": {},
   "outputs": [],
   "source": [
    "estructura(df1)"
   ]
  },
  {
   "cell_type": "code",
   "execution_count": null,
   "id": "080532c9",
   "metadata": {},
   "outputs": [],
   "source": [
    "df1.insert(loc = 13,\n",
    "          column = '%PARTICIPACIÓN',\n",
    "          value =df1['TOTAL_VOTANTES']/df1['CENSO_ELECTORAL'])"
   ]
  },
  {
   "cell_type": "code",
   "execution_count": null,
   "id": "9f195248",
   "metadata": {},
   "outputs": [],
   "source": [
    "df1['%PARTICIPACIÓN']=df1['TOTAL_VOTANTES']/df1['CENSO_ELECTORAL']"
   ]
  },
  {
   "cell_type": "code",
   "execution_count": null,
   "id": "99fa57c4",
   "metadata": {},
   "outputs": [],
   "source": [
    "          \n",
    "df1.loc[30]['%PARTICIPACIÓN']"
   ]
  },
  {
   "cell_type": "code",
   "execution_count": null,
   "id": "90f9ea6a",
   "metadata": {},
   "outputs": [],
   "source": [
    "Var=dict(zip(W1[17:],Y))"
   ]
  },
  {
   "cell_type": "code",
   "execution_count": null,
   "id": "ea4ca5c1",
   "metadata": {},
   "outputs": [],
   "source": [
    "Var"
   ]
  },
  {
   "cell_type": "code",
   "execution_count": null,
   "id": "28029738",
   "metadata": {},
   "outputs": [],
   "source": [
    "estructura(df1)"
   ]
  },
  {
   "cell_type": "code",
   "execution_count": null,
   "id": "bc9c0a8a",
   "metadata": {},
   "outputs": [],
   "source": [
    "dfaux0.head()"
   ]
  },
  {
   "cell_type": "code",
   "execution_count": null,
   "id": "276f45e3",
   "metadata": {},
   "outputs": [],
   "source": [
    "dfaux1=df1[W1[17:]]"
   ]
  },
  {
   "cell_type": "code",
   "execution_count": null,
   "id": "142c045c",
   "metadata": {},
   "outputs": [],
   "source": [
    "dfaux1=dfaux1.rename(columns=Var)"
   ]
  },
  {
   "cell_type": "code",
   "execution_count": null,
   "id": "e03612be",
   "metadata": {},
   "outputs": [],
   "source": [
    "dfaux2=df1[W2[0:]]"
   ]
  },
  {
   "cell_type": "code",
   "execution_count": null,
   "id": "82ef36b8",
   "metadata": {},
   "outputs": [],
   "source": [
    "df1=pd.concat([dfaux0,dfaux1,dfaux2], axis=1)"
   ]
  },
  {
   "cell_type": "code",
   "execution_count": null,
   "id": "72c31cae",
   "metadata": {},
   "outputs": [],
   "source": [
    "estructura(df1)"
   ]
  },
  {
   "cell_type": "code",
   "execution_count": null,
   "id": "cc46fdd2",
   "metadata": {},
   "outputs": [],
   "source": [
    "df1 = df1.drop(df1.columns[[ 4,5,6,8,9,10]], axis=1)"
   ]
  },
  {
   "cell_type": "code",
   "execution_count": null,
   "id": "f57a9aa6",
   "metadata": {},
   "outputs": [],
   "source": [
    "estructura(df1)"
   ]
  },
  {
   "cell_type": "code",
   "execution_count": null,
   "id": "2f61ed1b",
   "metadata": {},
   "outputs": [],
   "source": [
    "P=[]\n",
    "for i in range(78,145):\n",
    "    if ('Diputados' in df1.loc[0].keys()[i]):\n",
    "        P.append(df1.loc[0].keys()[i])\n",
    "\n",
    "print(P)"
   ]
  },
  {
   "cell_type": "code",
   "execution_count": null,
   "id": "beb36439",
   "metadata": {
    "lines_to_next_cell": 2
   },
   "outputs": [],
   "source": [
    "df1.insert(loc = 4,\n",
    "          column = 'NPARTIDOS',\n",
    "          value =N_PARTIDOS)"
   ]
  },
  {
   "cell_type": "code",
   "execution_count": null,
   "id": "75e33c6c",
   "metadata": {},
   "outputs": [],
   "source": [
    "#partidos con más del 3% de votos\n",
    "df1.insert(loc = 5,\n",
    "          column = 'PARTIDOS>3',\n",
    "          value =0)"
   ]
  },
  {
   "cell_type": "code",
   "execution_count": null,
   "id": "d0617877",
   "metadata": {},
   "outputs": [],
   "source": [
    "estructura(df1)"
   ]
  },
  {
   "cell_type": "code",
   "execution_count": null,
   "id": "553d19bd",
   "metadata": {
    "lines_to_next_cell": 2
   },
   "outputs": [],
   "source": [
    "V=[]\n",
    "for i in range (N_PROV):\n",
    "    S=0\n",
    "    for x in l:\n",
    "\n",
    "        a=df1.loc[i][x]/df1.loc[i]['VOTOS_VÁLIDOS']\n",
    "        #\n",
    "        if (a)>=0.03:\n",
    "            S=S+1\n",
    "    print(i,S)\n",
    "    V.append(S)\n",
    "    df1.loc[i,'PARTIDOS>3']=V[i]"
   ]
  },
  {
   "cell_type": "code",
   "execution_count": null,
   "id": "515acbb9",
   "metadata": {},
   "outputs": [],
   "source": [
    "party1=set(df2.loc[1])\n",
    "grupos=list(party1)\n",
    "party2=pd.Series(df2.columns.values,index=df2.columns.values)\n",
    "party2=pd.DataFrame(party2)"
   ]
  },
  {
   "cell_type": "code",
   "execution_count": null,
   "id": "cbd1a9b0",
   "metadata": {},
   "outputs": [],
   "source": [
    "df2"
   ]
  },
  {
   "cell_type": "code",
   "execution_count": null,
   "id": "b90e7453",
   "metadata": {},
   "outputs": [],
   "source": [
    "warnings.filterwarnings(\"ignore\")\n",
    "df2=df2.append(pd.DataFrame(party2.T),ignore_index=True).copy()"
   ]
  },
  {
   "cell_type": "code",
   "execution_count": null,
   "id": "1ff57cb9",
   "metadata": {},
   "outputs": [],
   "source": [
    "df2.head()"
   ]
  },
  {
   "cell_type": "code",
   "execution_count": null,
   "id": "a71289f1",
   "metadata": {},
   "outputs": [],
   "source": [
    "#PARTE II: INTRODUCIR GRUPOS"
   ]
  },
  {
   "cell_type": "code",
   "execution_count": null,
   "id": "598785ae",
   "metadata": {},
   "outputs": [],
   "source": [
    "#asignar a cada grupo sus partidos\n",
    "A=set(df2.loc[1][:])\n",
    "B=list(A)\n",
    "list_groups = {key: None for key in B}\n",
    "for x in B:#nombres de los grupos (CENTRO, DERECHA,...)\n",
    "    C=[]\n",
    "    \n",
    "    for i in df2.loc[2][:]:#nombres de los partidos (1,2,...NPARTIDOS)\n",
    "        if df2.loc[1][i] ==x:\n",
    "            C.append(str(i))\n",
    "    #print(x,C)\n",
    "    list_groups[x]=C"
   ]
  },
  {
   "cell_type": "code",
   "execution_count": null,
   "id": "f5fa5632",
   "metadata": {},
   "outputs": [],
   "source": [
    "list_groups"
   ]
  },
  {
   "cell_type": "code",
   "execution_count": null,
   "id": "15aa754a",
   "metadata": {
    "lines_to_next_cell": 2
   },
   "outputs": [],
   "source": [
    "vot_grupos=['VDERECHA',\n",
    "'VCENTRO',\n",
    "'VIZQUIERDA',\n",
    "'VNACIONALISTAS',\n",
    "'VOTROS']"
   ]
  },
  {
   "cell_type": "code",
   "execution_count": null,
   "id": "ad548b8f",
   "metadata": {},
   "outputs": [],
   "source": [
    "new_grupos=dict()\n",
    "for x in vot_grupos:\n",
    "    new_grupos[x] = list_groups[x[1:]]"
   ]
  },
  {
   "cell_type": "code",
   "execution_count": null,
   "id": "2e4ab4dc",
   "metadata": {},
   "outputs": [],
   "source": [
    "vot_grupos"
   ]
  },
  {
   "cell_type": "code",
   "execution_count": null,
   "id": "c78bf3ce",
   "metadata": {},
   "outputs": [],
   "source": [
    "list_groups"
   ]
  },
  {
   "cell_type": "code",
   "execution_count": null,
   "id": "c25edd22",
   "metadata": {},
   "outputs": [],
   "source": [
    "new_grupos"
   ]
  },
  {
   "cell_type": "code",
   "execution_count": null,
   "id": "c5d5022c",
   "metadata": {},
   "outputs": [],
   "source": []
  },
  {
   "cell_type": "code",
   "execution_count": null,
   "id": "d82acf8a",
   "metadata": {},
   "outputs": [],
   "source": [
    "df3 = df1.reindex(columns =df1.columns.tolist() + grupos)\n",
    "df3 = df3.fillna(0)"
   ]
  },
  {
   "cell_type": "code",
   "execution_count": null,
   "id": "c2d48453",
   "metadata": {},
   "outputs": [],
   "source": [
    "estructura(df3)"
   ]
  },
  {
   "cell_type": "code",
   "execution_count": null,
   "id": "44e74036",
   "metadata": {},
   "outputs": [],
   "source": [
    "df3.loc[0]['IZQUIERDA']"
   ]
  },
  {
   "cell_type": "code",
   "execution_count": null,
   "id": "efbf1c4c",
   "metadata": {
    "lines_to_next_cell": 2
   },
   "outputs": [],
   "source": [
    "#votos por grupos por provincias\n",
    "for j in range (len(df3)):#provincias\n",
    "    print('\\n','PROVINCIA',df1.loc[j]['PROVINCIA'].strip(),f'{j:,.0f}','\\n')\n",
    "    S=0\n",
    "    for x in vot_grupos:#grupos de partidos\n",
    "        print(x, f'{df3.loc[j][new_grupos[x]].sum():,.0f}')\n",
    "        S=S+df3.loc[j][new_grupos[x]].sum()\n",
    "    print('--TOTAL VOTOS ',f'{S:,.0f}')"
   ]
  },
  {
   "cell_type": "code",
   "execution_count": null,
   "id": "05c3fe66",
   "metadata": {},
   "outputs": [],
   "source": [
    "B=[[] for j in range (len(df3))]\n",
    "\n",
    "for j in range(N_PROV):\n",
    "    for x in vot_grupos:\n",
    "        C=df3.loc[j][new_grupos[x]].sum()\n",
    "        B[j].append(C)"
   ]
  },
  {
   "cell_type": "code",
   "execution_count": null,
   "id": "3908c5e3",
   "metadata": {},
   "outputs": [],
   "source": [
    "B"
   ]
  },
  {
   "cell_type": "code",
   "execution_count": null,
   "id": "b2cec1e1",
   "metadata": {},
   "outputs": [],
   "source": [
    "df4=df3.copy()\n",
    "for i in (range(N_PROV)):\n",
    "    for x in vot_grupos:\n",
    "        df4.loc[i,x]=B[i][vot_grupos.index(x)]"
   ]
  },
  {
   "cell_type": "code",
   "execution_count": null,
   "id": "c9052edf",
   "metadata": {},
   "outputs": [],
   "source": [
    "df4[new_grupos]"
   ]
  },
  {
   "cell_type": "code",
   "execution_count": null,
   "id": "04b10c0b",
   "metadata": {},
   "outputs": [],
   "source": [
    "df4[list_groups]"
   ]
  },
  {
   "cell_type": "code",
   "execution_count": null,
   "id": "7431d78d",
   "metadata": {},
   "outputs": [],
   "source": [
    "for x in l:\n",
    "    columna='%'+x\n",
    "    df4[columna]=df4[x]/df4['VOTOS_VÁLIDOS']"
   ]
  },
  {
   "cell_type": "code",
   "execution_count": null,
   "id": "34d7ed49",
   "metadata": {},
   "outputs": [],
   "source": [
    "#PARTE III: ELIMINAR CANDIDATURAS DE <3%"
   ]
  },
  {
   "cell_type": "code",
   "execution_count": null,
   "id": "3f99b849",
   "metadata": {},
   "outputs": [],
   "source": [
    "df5=df4.copy()\n",
    "for x in l:\n",
    "    columna='%'+x\n",
    "    df5[columna]=df5[x]/df5['VOTOS_VÁLIDOS']\n",
    "    df5[x][df5[columna] < 0.03] = 0"
   ]
  },
  {
   "cell_type": "code",
   "execution_count": null,
   "id": "072e64ea",
   "metadata": {},
   "outputs": [],
   "source": [
    "df5.loc[0]['20']"
   ]
  },
  {
   "cell_type": "code",
   "execution_count": null,
   "id": "fc88b6a2",
   "metadata": {},
   "outputs": [],
   "source": [
    "df5.insert(loc = 5,\n",
    "          column = 'VOTOS_REPARTIR',\n",
    "          value =df5[l].sum(axis=1))"
   ]
  },
  {
   "cell_type": "code",
   "execution_count": null,
   "id": "bc50d3e1",
   "metadata": {},
   "outputs": [],
   "source": [
    "df5[l].sum(axis=1)"
   ]
  },
  {
   "cell_type": "code",
   "execution_count": null,
   "id": "89b7c528",
   "metadata": {},
   "outputs": [],
   "source": [
    "df1[l].sum(axis=1)"
   ]
  },
  {
   "cell_type": "code",
   "execution_count": null,
   "id": "b5f55b53",
   "metadata": {},
   "outputs": [],
   "source": [
    "#PARTE IV: TABLAS d'HONDT"
   ]
  },
  {
   "cell_type": "code",
   "execution_count": null,
   "id": "e6dbbffd",
   "metadata": {},
   "outputs": [],
   "source": [
    "p=[[] for i in range(N_PROV)]\n",
    "for j in range(N_PROV):\n",
    "    c=df5.loc[j,l]\n",
    "    p[j]=[]\n",
    "    \n",
    "    for k in range (1,int(df1.loc[j]['DIPUTADOS'])+1):\n",
    "        part_voto=c/k\n",
    "        p[j].append(part_voto)\n",
    "#p[I][J] es una lista de dimensión N_PROVINCIAS y donde cada elemento de la lista es \n",
    "#otra lista de longitud N_PARTIDOSxDIPUTADOS cuyo contenido es el número de votos de \n",
    "#cada partido dividido por 1,2,...DIPUTADOS."
   ]
  },
  {
   "cell_type": "code",
   "execution_count": null,
   "id": "2d78888f",
   "metadata": {},
   "outputs": [],
   "source": [
    "df1.loc[0]['DIPUTADOS']"
   ]
  },
  {
   "cell_type": "code",
   "execution_count": null,
   "id": "bec4c1a7",
   "metadata": {},
   "outputs": [],
   "source": [
    "q=[[] for i in range(N_PROV)]\n",
    "r=[[] for i in range(N_PROV)]\n",
    "dHondt=[[] for i in range(N_PROV)]\n",
    "for i in range(N_PROV):\n",
    "    r[i]=[]\n",
    "    for j in range(int(df1.loc[i]['DIPUTADOS'])):\n",
    "        A=p[i][j]\n",
    "        r[i].append(A.values)\n",
    "        q[i]=np.array((r[i])).T\n",
    "        dHondt[i]=pd.DataFrame(q[i])\n",
    "        \n",
    "#dHondt es un array que representa la tabla d'Hondt  "
   ]
  },
  {
   "cell_type": "code",
   "execution_count": null,
   "id": "cd6b575c",
   "metadata": {},
   "outputs": [],
   "source": [
    "estructura(df1)"
   ]
  },
  {
   "cell_type": "code",
   "execution_count": null,
   "id": "8a8c27a1",
   "metadata": {},
   "outputs": [],
   "source": [
    "for i in range(N_PROV):\n",
    "    print('PROVINCIA: ',df1.loc[i]['PROVINCIA'].strip(),i,'\\n',dHondt[i][dHondt[i]>0].dropna(axis=0, how='all', inplace=False))"
   ]
  },
  {
   "cell_type": "code",
   "execution_count": null,
   "id": "ca328dd5",
   "metadata": {},
   "outputs": [],
   "source": [
    "for i in range(N_PROV):\n",
    "    labels = [x for x in range(1,int(df1.loc[i]['NPARTIDOS'])+1)]\n",
    "    #print(pd.DataFrame(q[i],index=labels))\n",
    "    dHondt[i]=pd.DataFrame(q[i],index=labels)"
   ]
  },
  {
   "cell_type": "code",
   "execution_count": null,
   "id": "cb34d094",
   "metadata": {},
   "outputs": [],
   "source": [
    "#lista_votos[I] es una lista de longitud N_PROVINCIAS que tiene los valores ordenados de la \n",
    "#tabla d'Hondt de cada provincia. Si no existen valores duplicados con lista_votos[I][DIPUTADOS-1]\n",
    "#en lista_votos[I][>=DIPUTADOS] se eligen los primeros términos hasta DIPUTADOS y se asignan los escaños\n",
    "#según las veces que aparezca cada partido. Si existen duplicados, se seleccionan aquellos partidos\n",
    "#que tienen el mismo valor del índice que lista_votos[I][DIPUTADOS-1] y, enre ellos, se eligen al azar\n",
    "#las candidaturas que deben completar el número de escaños. p.e. si hay DIPUTADOS=6 y \n",
    "#lista_votos[I][4]=lista_votos[I][5]=lista_votos[I][6]=lista_votos[I][7]=1000 elegiremos aleatoriamente\n",
    "#dos de las cuatro empatadas para los dos escaños vacantes.\n",
    "lista_votos=[[] for i in range(N_PROV)]\n",
    "for i in range(N_PROV):\n",
    "    lista_votos[i]=[]\n",
    "    for j in range(int(df1.loc[i]['DIPUTADOS'])):\n",
    "        lista_votos[i]=lista_votos[i]+list(p[i][j])\n",
    "        \n",
    "        lista_votos[i].sort(reverse=True)"
   ]
  },
  {
   "cell_type": "code",
   "execution_count": null,
   "id": "61c304a4",
   "metadata": {},
   "outputs": [],
   "source": [
    "#Exporto d'Hondt \n",
    "F=input(\"¿DESEA EXPORTAR LAS TABLAS d'HONDT? (Y/N)\")\n",
    "if F=='Y' or 'Y'.lower():\n",
    "    for i in range(N_PROV):\n",
    "        A=dHondt[i][dHondt[i]>0].dropna(axis=0, how='all') \n",
    "        B=pd.DataFrame(lista_votos[i])\n",
    "        B[B>0].dropna(axis=0, how='all') \n",
    "        Name='dHondt'+str(i)\n",
    "        writer = pd.ExcelWriter(Name+'.xlsx')\n",
    "        A.to_excel(writer,'dHondt')\n",
    "        B.to_excel(writer,'lista_votos')\n",
    "        writer.save()\n",
    "        writer.close()"
   ]
  },
  {
   "cell_type": "code",
   "execution_count": null,
   "id": "9eaf1719",
   "metadata": {},
   "outputs": [],
   "source": [
    "#PARTE V: COMPROBAR SI HAY EMPATES\n",
    "#vemos la lista de los valores repetidos en cada provincia:  repitentes[I] extaídos de lista_votos[I]\n",
    "repitentes=[[] for i in range(N_PROV) ]\n",
    "S=0\n",
    "PR=[]\n",
    "for i in range(N_PROV):\n",
    "    D=([x for x in lista_votos[i] if lista_votos[i].count(x) >= 2])\n",
    "    D.sort(reverse=True)\n",
    "    \n",
    "    for j in range(len(D)):\n",
    "        if D[j]!=0:\n",
    "            repitentes[i].append(D[j])\n",
    "            a=repitentes[i][j]\n",
    "            S=S+1\n",
    "            PR.append(i)\n",
    "    if len(repitentes[i])>0:       \n",
    "        print('provincia: ', df1.loc[i]['PROVINCIA'],i,'\\n',repitentes[i])\n",
    "\n",
    "if S==0:\n",
    "    print('NO HAY CANDIDATURAS EMPATADAS')\n",
    "    \n",
    "else:\n",
    "    print('Hay candidaturas empatadas en provincias',set(PR))\n",
    "    Empates=1"
   ]
  },
  {
   "cell_type": "code",
   "execution_count": null,
   "id": "8c13852b",
   "metadata": {
    "lines_to_next_cell": 2
   },
   "outputs": [],
   "source": [
    "#Exporto d'Hondt \n",
    "F=input(\"¿DESEA EXPORTAR LAS TABLAS d'HONDT? (Y/N)\")\n",
    "if F=='Y' or 'Y'.lower():\n",
    "    for i in range(N_PROV):\n",
    "        A=dHondt[i][dHondt[i]>0].dropna(axis=0, how='all') \n",
    "        B=pd.DataFrame(lista_votos[i])\n",
    "        B[B>0].dropna(axis=0, how='all') \n",
    "        Name='dHondt'+str(i)\n",
    "        writer = pd.ExcelWriter(Name+'.xlsx')\n",
    "        A.to_excel(writer,'dHondt')\n",
    "        B.to_excel(writer,'lista_votos')\n",
    "        writer.save()\n",
    "        writer.close()"
   ]
  },
  {
   "cell_type": "code",
   "execution_count": null,
   "id": "c83f0f52",
   "metadata": {},
   "outputs": [],
   "source": [
    "estructura(df1)"
   ]
  },
  {
   "cell_type": "code",
   "execution_count": null,
   "id": "f96ace2f",
   "metadata": {},
   "outputs": [],
   "source": [
    "#PARTE VI: SI HAY EMPATES"
   ]
  },
  {
   "cell_type": "code",
   "execution_count": null,
   "id": "9c200876",
   "metadata": {},
   "outputs": [],
   "source": [
    "repeated=[[] for i in range(N_PROV)]\n",
    "for i in range(N_PROV):\n",
    "    my_set = {s for s in repitentes[i]}\n",
    "    repeated[i]=list(my_set)\n",
    "    repeated[i].sort(reverse=True)\n",
    "#valores repetidos en cada provincia en la tabla d'Hondt (un solo valor)"
   ]
  },
  {
   "cell_type": "code",
   "execution_count": null,
   "id": "56649df8",
   "metadata": {},
   "outputs": [],
   "source": [
    "#es la función que localiza valores en DataFrame\n",
    "i,j=np.where(np.isclose(np.array(dHondt[49],dtype=float),91964))\n",
    "indices=list(zip(i,j))#tupla que da el número de fila y el de columna (f,c) de la tabla d'Hondt\n",
    "print(indices)\n",
    "print(dHondt[49][dHondt[49]>0].dropna(axis=0, how='all'))"
   ]
  },
  {
   "cell_type": "code",
   "execution_count": null,
   "id": "8d13fba3",
   "metadata": {},
   "outputs": [],
   "source": [
    "#defino función que identifica y recopila valores repetidos\n",
    "from collections import defaultdict\n",
    "def list_duplicates(seq):\n",
    "    tally = defaultdict(list)\n",
    "    for i,item in enumerate(seq):\n",
    "        tally[item].append(i)#tally es diccionario que asigna a cada valor los índices en que aparece\n",
    "    return ((key,locs) for key,locs in tally.items() if len(locs)>1)#solo se queda con los índices de valores repetidos\n",
    "#devuelve un diccionario en el que la key es el elemento de seq y el value es una lista de los índices\n",
    "#en que aparece"
   ]
  },
  {
   "cell_type": "code",
   "execution_count": null,
   "id": "f09b7794",
   "metadata": {
    "lines_to_next_cell": 2
   },
   "outputs": [],
   "source": [
    "#devuelve el rango de las posiciones de lista_votos en que se repite el valor que ha de ser asignado\n",
    "#a un partido aleatoriamente ya que el coeficiente de d'Hondt es el mismo para varios partidos.\n",
    "locations=[[] for i in range(N_PROV)]\n",
    "for i in range(N_PROV):\n",
    "    for j in range (len(repeat_loc[i])):\n",
    "        a=min([x for x in repeat_loc[i][j][1]])\n",
    "        b=max([x for x in repeat_loc[i][j][1]])\n",
    "        if(b>=df1.loc[i]['DIPUTADOS'] and a<=df1.loc[i]['DIPUTADOS']):\n",
    "            #print(i,df1.loc[i]['PROVINCIA'].strip(),j,b>=df1.loc[i]['DIPUTADOS'] and a<=df1.loc[i]['DIPUTADOS'])\n",
    "            print(i,df1.loc[i]['PROVINCIA'].strip(),'Escaños a sortear',j,'entre las candidaturas',repeat_loc[i][j][1])\n",
    "            print('Mínimo',min([x for x in repeat_loc[i][j][1]]),'Máximo', max([x for x in repeat_loc[i][j][1]]))\n",
    "            \n",
    "            locations[i].append(a)\n",
    "            locations[i].append(b)"
   ]
  },
  {
   "cell_type": "code",
   "execution_count": null,
   "id": "2ed9fcfc",
   "metadata": {},
   "outputs": [],
   "source": [
    "locations\n",
    "#donde la lista está vacía, no hay coeficientes d'Hondt duplicados.\n",
    "#donde no está vacía muestra el rango [MIN,MAX] en el que se encuentran los coeficientes empatados y\n",
    "#el intervalo siempre ha de cubrir el valor del número de diputados asignados a la provincia."
   ]
  },
  {
   "cell_type": "code",
   "execution_count": null,
   "id": "b55ed5fc",
   "metadata": {
    "lines_to_next_cell": 2
   },
   "outputs": [],
   "source": [
    "for i in range(N_PROV):\n",
    "    if list(locations[i]):\n",
    "        print(df1.loc[i]['PROVINCIA'].strip(),i,locations[i],'N_DIPUTADOS',int(df1.loc[i]['DIPUTADOS']))\n",
    "#nos da el índice mínimo  y el máximo que comprende el número de DIPUTADOS"
   ]
  },
  {
   "cell_type": "code",
   "execution_count": null,
   "id": "ea35b18e",
   "metadata": {},
   "outputs": [],
   "source": [
    "#el número de veces que se ha de elegir al azar en cada provincia\n",
    "n_rep=[]\n",
    "pr_alea=[]\n",
    "for i in range(N_PROV):\n",
    "    try:\n",
    "        n=(+int(df1.loc[i]['DIPUTADOS'])-min(locations[i]))\n",
    "        print('PROVINCIA ',df1.loc[i]['PROVINCIA'].strip(),i,' SELECCIONES ALEATORIAS ',n)\n",
    "        n_rep.append(n)\n",
    "        pr_alea.append(i)\n",
    "    except:\n",
    "        n_rep.append(0)\n",
    "\n",
    "s=[(i,df5.loc[i]['PROVINCIA'].strip()) for i in range(N_PROV)]\n",
    "n_rep1=list(zip(s,n_rep))       \n",
    "#n_rep1 asocia para cada provincia el número de veces a elegir al azar"
   ]
  },
  {
   "cell_type": "code",
   "execution_count": null,
   "id": "73892faa",
   "metadata": {},
   "outputs": [],
   "source": [
    "S=0\n",
    "for i in range(N_PROV):\n",
    "    \n",
    "    if n_rep1[i][1]>0:\n",
    "        print(n_rep1[i])\n",
    "        S=S+1\n",
    "if S==0:\n",
    "    print('No hay sorteo')"
   ]
  },
  {
   "cell_type": "code",
   "execution_count": null,
   "id": "d24ab0a1",
   "metadata": {},
   "outputs": [],
   "source": [
    "#comprobación del muestreo\n",
    "M=[[] for o in range(N_PROV)]\n",
    "for o in range(N_PROV):\n",
    "    try:\n",
    "        m=[i for i in range(min(locations[o]),max(locations[o]))]\n",
    "        M[o].append(m)\n",
    "        print('POSICIONES DE DUPLICADOS: ','PROVINCIA',o,M[o])\n",
    "    except:\n",
    "        continue\n",
    "N=[[] for o in range(N_PROV)]\n",
    "for i in range(100):\n",
    "    \n",
    "    for k in pr_alea:\n",
    "        for j in range(len(M[k])):    \n",
    "            r=random.sample(M[k][j], int(df1.loc[k]['DIPUTADOS'])-min(locations[k]))\n",
    "            r.sort()\n",
    "            \n",
    "            #print ('pasada',i+1,'provincia',k,'muestra',r)\n",
    "            N[k].append(r)\n",
    "        \n",
    "alea49 = pd.DataFrame(N[49], columns = ['alea'])\n",
    "alea30=[elem for sublist in N[30] for elem in sublist]\n",
    "alea30 = pd.DataFrame(alea30, columns = ['alea'])"
   ]
  },
  {
   "cell_type": "code",
   "execution_count": null,
   "id": "c3faf8ad",
   "metadata": {},
   "outputs": [],
   "source": [
    "alea30"
   ]
  },
  {
   "cell_type": "code",
   "execution_count": null,
   "id": "f6dd56a9",
   "metadata": {},
   "outputs": [],
   "source": [
    "counts30 = alea30['alea'].value_counts().to_dict()\n",
    "counts49 = alea49['alea'].value_counts().to_dict()\n",
    "counts30 = dict(sorted(counts30.items()))\n",
    "counts49 = dict(sorted(counts49.items()))"
   ]
  },
  {
   "cell_type": "code",
   "execution_count": null,
   "id": "39512cbd",
   "metadata": {},
   "outputs": [],
   "source": [
    "counts30 "
   ]
  },
  {
   "cell_type": "code",
   "execution_count": null,
   "id": "17c269b3",
   "metadata": {},
   "outputs": [],
   "source": [
    "#provincias con y sin duplicados\n",
    "S1=0\n",
    "S2=0\n",
    "for i in range(N_PROV):\n",
    "    if n_rep[i]==0:\n",
    "        #print('\\n','SIN DUPLICADOS','\\n')\n",
    "        #print('PROVINCIA ',i,'\\n',dHondt[i],'\\n')\n",
    "        S1=S1+1\n",
    "    else:\n",
    "        # dHondt con duplicados\n",
    "        if max(locations[i])+1-min(locations[i])<=df1.loc[0]['NPARTIDOS']:\n",
    "            print('PROVINCIA CON DUPLICADOS',df1.loc[i]['PROVINCIA'].strip(),i,'\\n','NÚMERO DE PARTIDOS EMPATADOS ',\n",
    "                  max(locations[i])+1-min(locations[i]))\n",
    "            S2=S2+1\n",
    "print('\\n','NÚMERO DE PROVINCIAS SIN DUPLICADOS',S1,'\\n','NÚMERO DE PROVINCIAS CON DUPLICADOS',S2)"
   ]
  },
  {
   "cell_type": "code",
   "execution_count": null,
   "id": "7eefbd7e",
   "metadata": {},
   "outputs": [],
   "source": [
    "#función que cuenta el número de diputados que cada partido obtiene en función del orden en tabla dHondt\n",
    "def CountFrequency(my_list):\n",
    "    count = {}\n",
    "    for i in my_list:\n",
    "        count[i] = count.get(i, 0) + 1\n",
    "    return count"
   ]
  },
  {
   "cell_type": "code",
   "execution_count": null,
   "id": "7288725d",
   "metadata": {},
   "outputs": [],
   "source": [
    "#es el método para localizar en d'Hondt los valores de los coeficientes de la tabla\n",
    "M=np.array(dHondt[0],dtype=float)\n",
    "i,j=np.where(np.isclose(M,39036))"
   ]
  },
  {
   "cell_type": "code",
   "execution_count": null,
   "id": "fc19979a",
   "metadata": {},
   "outputs": [],
   "source": [
    "i,j\n",
    "#devuelve una tupla"
   ]
  },
  {
   "cell_type": "code",
   "execution_count": null,
   "id": "235e01f9",
   "metadata": {},
   "outputs": [],
   "source": [
    "#provincias sin empates\n",
    "dipus=[[] for k in range(N_PROV)]\n",
    "num_part=[]\n",
    "elements_count=[[] for k in range(N_PROV)]\n",
    "for k in range(N_PROV):\n",
    "    dipus[k]=[]\n",
    "    if n_rep[k]==0:\n",
    "        for x in lista_votos[k][0:int(df5.loc[k]['DIPUTADOS'])]:\n",
    "            M=np.array(dHondt[k],dtype=float)\n",
    "            i,j=np.where(np.isclose(M,x))\n",
    "            dipus[k].append(i[0]+1)\n",
    "        a=CountFrequency(dipus[k])\n",
    "        elements_count[k].append(a)\n",
    "    num_part.append(elements_count[k])    \n",
    "# el diccionario elements_count[k] nos da el par (PARTIDO, ESCAÑOS) para cada PROVINCIA k\n",
    "    print(k,elements_count[k])"
   ]
  },
  {
   "cell_type": "code",
   "execution_count": null,
   "id": "b080ec0d",
   "metadata": {},
   "outputs": [],
   "source": [
    "n_rep"
   ]
  },
  {
   "cell_type": "code",
   "execution_count": null,
   "id": "38c642dc",
   "metadata": {},
   "outputs": [],
   "source": [
    "#lista de candidaturas que recibirán diputados ordenadas según la regla d'Hondt\n",
    "for i in range (N_PROV):\n",
    "    print(df1.loc[i]['PROVINCIA'],dipus[i])"
   ]
  },
  {
   "cell_type": "code",
   "execution_count": null,
   "id": "0412e42e",
   "metadata": {},
   "outputs": [],
   "source": [
    "#añado columnas para guardar los escaños de cada candidatura\n",
    "for k in range(N_PROV):\n",
    "    for x in l:\n",
    "        columna='DIPUTADOS'+x\n",
    "        df5.loc[k,columna]=0"
   ]
  },
  {
   "cell_type": "code",
   "execution_count": null,
   "id": "d5f74f57",
   "metadata": {},
   "outputs": [],
   "source": [
    "#Asigno diputados a provincias donde no hay empates\n",
    "df6=df5.copy()\n",
    "for k in range(N_PROV):\n",
    "    if n_rep[k]==0:#si no hay duplicados en la provincia n_rep[k]==0\n",
    "        for x in l:\n",
    "            columna='DIPUTADOS'+x\n",
    "            try:\n",
    "                \n",
    "                df6.loc[k,columna]=(elements_count[k][0][int(x)])\n",
    "                print('PROV ',k,'PARTIDO',int(x),'DIPUS ', elements_count[k][0][int(x)])\n",
    "            except:\n",
    "                continue\n",
    "df6 = df6.fillna(0)"
   ]
  },
  {
   "cell_type": "code",
   "execution_count": null,
   "id": "4d5610fc",
   "metadata": {},
   "outputs": [],
   "source": [
    "df6.head()"
   ]
  },
  {
   "cell_type": "code",
   "execution_count": null,
   "id": "40591638",
   "metadata": {},
   "outputs": [],
   "source": [
    "#listo los votos por grupo en cada provincia descontados los partidos con menos del 3%\n",
    "df7=df6.copy()\n",
    "for k in range(N_PROV):\n",
    "    print('\\n','PROVINCIA: ',df1.loc[k]['PROVINCIA'].strip(),k,'\\n','EN BLANCO',\n",
    "         df7.loc[k]['VOTOS_BLANCOS'])\n",
    "    S=0\n",
    "    for x in grupos:\n",
    "        print(x, df7.loc[k][list_groups[x]].sum())\n",
    "        S=S+df7.loc[k][list_groups[x]].sum()\n",
    "    print('TOTALES NO EN BLANCO:',S)"
   ]
  },
  {
   "cell_type": "code",
   "execution_count": null,
   "id": "a2666dcc",
   "metadata": {
    "lines_to_next_cell": 2
   },
   "outputs": [],
   "source": [
    "#lista de provincias sin empates\n",
    "nemp=[]\n",
    "for k in range(N_PROV):\n",
    "    if n_rep[k]==0:\n",
    "        nemp.append(df1.loc[k]['PROVINCIA'].strip())\n",
    "emp=[]\n",
    "#lista de provincias con empates\n",
    "for k in range(N_PROV):\n",
    "    if n_rep[k]!=0:\n",
    "        emp.append(df1.loc[k]['PROVINCIA'].strip())"
   ]
  },
  {
   "cell_type": "code",
   "execution_count": null,
   "id": "04d2fe7d",
   "metadata": {
    "lines_to_next_cell": 2
   },
   "outputs": [],
   "source": [
    "#provincias con empates\n",
    "dipus1=[[] for k in range(N_PROV)]\n",
    "elements_count1=[[] for k in range(N_PROV)]\n",
    "loto=[]\n",
    "dipus2=[[] for k in range(N_PROV)]\n",
    "dipus3=[[] for k in range(N_PROV)]\n",
    "for k in range(N_PROV):\n",
    "    dipus1[k]=[]\n",
    "    if n_rep[k]!=0:\n",
    "        \n",
    "        E=set(lista_votos[k][0:int(df6.loc[k]['DIPUTADOS'])])\n",
    "        F=list(E)\n",
    "        F.sort(reverse=True)\n",
    "        for x in F:#coeficientes d'Hondt a considerar\n",
    "            M=np.array(dHondt[k],dtype=float)\n",
    "            i,j=np.where(np.isclose(M,x))\n",
    "            v=list(zip(i+1,j))\n",
    "            print(k,x,v,i[0])\n",
    "            dipus1[k].append(v)\n",
    "            flat_list = [item for sublist in dipus1[k][:] for item in sublist]\n",
    "            dipus2[k]= [item for item in flat_list[:min(locations[k])]]\n",
    "            dipus3[k]=[item for item in flat_list[min(locations[k]):]]"
   ]
  },
  {
   "cell_type": "code",
   "execution_count": null,
   "id": "0aa18458",
   "metadata": {},
   "outputs": [],
   "source": [
    "dipus2[30]#contiene las tuplas (partido-1,Índice-1) que ya se han asignado"
   ]
  },
  {
   "cell_type": "code",
   "execution_count": null,
   "id": "00babd23",
   "metadata": {},
   "outputs": [],
   "source": [
    "dipus3[30]#contiene las tuplas (partido,Índice-1) que han de asignarse por sorteo"
   ]
  },
  {
   "cell_type": "code",
   "execution_count": null,
   "id": "c7d5bfa8",
   "metadata": {},
   "outputs": [],
   "source": [
    "for i in range(len(dipus3[30])):\n",
    "    print (dipus3[30][i][0]+1)"
   ]
  },
  {
   "cell_type": "code",
   "execution_count": null,
   "id": "fb02864f",
   "metadata": {
    "lines_to_next_cell": 2
   },
   "outputs": [],
   "source": [
    "#asignación por sorteo\n",
    "dipus4=[[] for k in range(N_PROV)]\n",
    "for k in range(N_PROV):\n",
    "    try:\n",
    "        w=int(df6.loc[k]['DIPUTADOS'])-min(locations[k])\n",
    "        print(w)\n",
    "        r=random.sample(dipus3[k][:], w)\n",
    "        print(k,r)\n",
    "        dipus3[k]=(dipus2[k]+r)\n",
    "        for i in range(len(dipus3[k])):\n",
    "            dipus4[k].append(dipus3[k][i][0])\n",
    "    except:\n",
    "        continue"
   ]
  },
  {
   "cell_type": "code",
   "execution_count": null,
   "id": "60491258",
   "metadata": {},
   "outputs": [],
   "source": [
    "dipus4[30]"
   ]
  },
  {
   "cell_type": "code",
   "execution_count": null,
   "id": "6bfc4871",
   "metadata": {},
   "outputs": [],
   "source": [
    "elements_count1=[[] for k in range(N_PROV)]\n",
    "for k in pr_alea:\n",
    "    a=CountFrequency(dipus4[k])\n",
    "    elements_count1[k].append(a)\n",
    "    print(k,elements_count1[k][0])\n",
    "# el diccionario elements1_count[k] nos da el par (PARTIDO, ESCAÑOS) para cada PROVINCIA k"
   ]
  },
  {
   "cell_type": "code",
   "execution_count": null,
   "id": "fdc285e6",
   "metadata": {},
   "outputs": [],
   "source": [
    "#Asigno diputados a provincias donde hay empates\n",
    "df7=df6.copy()\n",
    "for k in pr_alea:\n",
    "    for x in l:\n",
    "        columna='DIPUTADOS'+x\n",
    "        try:\n",
    "            df7.loc[k,columna]=(elements_count1[k][0][int(x)])\n",
    "            print('PROV ',k,'PARTIDO',int(x),'DIPUS ', elements_count[k][0][int(x)])\n",
    "        except:\n",
    "            continue\n",
    "df7 = df7.fillna(0)"
   ]
  },
  {
   "cell_type": "code",
   "execution_count": null,
   "id": "b0188de3",
   "metadata": {},
   "outputs": [],
   "source": [
    "estructura(df7)"
   ]
  },
  {
   "cell_type": "code",
   "execution_count": null,
   "id": "2c1ebded",
   "metadata": {},
   "outputs": [],
   "source": [
    "#PARTE VII: ASIGNACIÓN DE ESCAÑOS DEFINITIVA"
   ]
  },
  {
   "cell_type": "code",
   "execution_count": null,
   "id": "ed8ac84e",
   "metadata": {},
   "outputs": [],
   "source": [
    "#compruebo los escaños por provincia\n",
    "for i in range(N_PROV):\n",
    "    print(i,df7.loc[i]['PROVINCIA'],f\"{df7.loc[i][292:359].sum():,.0f}\")"
   ]
  },
  {
   "cell_type": "code",
   "execution_count": null,
   "id": "fb553f9b",
   "metadata": {},
   "outputs": [],
   "source": [
    "estructura(df7)"
   ]
  },
  {
   "cell_type": "code",
   "execution_count": null,
   "id": "7ff780c7",
   "metadata": {
    "lines_to_next_cell": 2
   },
   "outputs": [],
   "source": [
    "#asignar a cada grupo sus diputados\n",
    "df8=df7.copy()\n",
    "B=list(df8.loc[2][292:359].keys())\n",
    "new_list_groups = {key: None for key in grupos}\n",
    "for x in grupos:#nombres de los grupos (CENTRO, DERECHA,...)\n",
    "    C=[]\n",
    "    for i in list_groups[x]:\n",
    "        if B[int(i)-1][9:] ==str(i):\n",
    "            print(B[int(i)-1][9:])\n",
    "            C.append(B[int(i)-1])\n",
    "            #print(x,C)\n",
    "    new_list_groups[x]=C"
   ]
  },
  {
   "cell_type": "code",
   "execution_count": null,
   "id": "a9ebe897",
   "metadata": {},
   "outputs": [],
   "source": [
    "list(df7.loc[2][292:359].keys())"
   ]
  },
  {
   "cell_type": "code",
   "execution_count": null,
   "id": "c2070a38",
   "metadata": {},
   "outputs": [],
   "source": [
    "#votos por grupo político\n",
    "\n",
    "for k in range(N_PROV):\n",
    "    for x in grupos:\n",
    "        columna=x\n",
    "        df8.loc[k,columna]=df8.loc[k][new_list_groups[x]].sum()\n",
    "                "
   ]
  },
  {
   "cell_type": "code",
   "execution_count": null,
   "id": "c8841a99",
   "metadata": {},
   "outputs": [],
   "source": [
    "df8.loc[0,'VDERECHA']"
   ]
  },
  {
   "cell_type": "code",
   "execution_count": null,
   "id": "19a61bff",
   "metadata": {},
   "outputs": [],
   "source": [
    "list_groups"
   ]
  },
  {
   "cell_type": "code",
   "execution_count": null,
   "id": "420f23f1",
   "metadata": {
    "lines_to_next_cell": 2,
    "scrolled": false
   },
   "outputs": [],
   "source": [
    "df9=df8.copy()\n",
    "import warnings\n",
    "warnings.filterwarnings(\"ignore\")\n",
    "for k in range(N_PROV):\n",
    "    for x in grupos:\n",
    "        df9.loc[k][x]=df9.loc[k][new_list_groups[x]].sum()\n",
    "        print(df9.loc[k][x])\n",
    "        print(df9.loc[k][new_list_groups[x]].sum())\n",
    "df9 = df9.fillna(0)"
   ]
  },
  {
   "cell_type": "code",
   "execution_count": null,
   "id": "a18c4d59",
   "metadata": {},
   "outputs": [],
   "source": [
    "new_list_groups"
   ]
  },
  {
   "cell_type": "code",
   "execution_count": null,
   "id": "4b6eed7a",
   "metadata": {},
   "outputs": [],
   "source": [
    "df9.loc[0]['VDERECHA']"
   ]
  },
  {
   "cell_type": "code",
   "execution_count": null,
   "id": "fffe265a",
   "metadata": {},
   "outputs": [],
   "source": [
    "estructura(df9)"
   ]
  },
  {
   "cell_type": "markdown",
   "id": "a63beb11",
   "metadata": {},
   "source": [
    "###PARTE VIII: LISTADOS DE COMPROBACIÓN Y ARCHIVO DE SALIDA EXCEL"
   ]
  },
  {
   "cell_type": "code",
   "execution_count": null,
   "id": "39db2681",
   "metadata": {},
   "outputs": [],
   "source": [
    "list(df9.keys()[222:289])[0][9:]"
   ]
  },
  {
   "cell_type": "code",
   "execution_count": null,
   "id": "a84d0227",
   "metadata": {},
   "outputs": [],
   "source": [
    "#VOTOS POR PROVINCIA Y PARTIDO\n",
    "\n",
    "print(\"\\033[4m\" + 'LISTADO DE VOTOS POR PROVINCIA A PARTIDOS'.center(80) + \"\\033[0m\",'\\n')\n",
    "for k in range(N_PROV):\n",
    "    print('\\n','Provincia ',k, df1.loc[k]['PROVINCIA'].strip())\n",
    "    for j in l:\n",
    "        if int(df9.loc[k][j])!=0:\n",
    "            print('Votos al partido: ',j, int(df9.loc[k][j]))"
   ]
  },
  {
   "cell_type": "code",
   "execution_count": null,
   "id": "3b895646",
   "metadata": {},
   "outputs": [],
   "source": [
    "#ESCAÑOS POR PROVINCIA Y GRUPO POLÍTICO\n",
    "print(\"\\033[4m\" + 'LISTADO DE ESCAÑOS POR PROVINCIA A GRUPOS POLÍTICOS'.center(80) + \"\\033[0m\",'\\n')\n",
    "for k in range(N_PROV):\n",
    "    print('\\n','Provincia: ',k,df1.loc[k]['PROVINCIA'].strip())\n",
    "        \n",
    "    for j in range(215,220):\n",
    "        \n",
    "        if df9.loc[k][j]!=0:\n",
    "            print('Escaños por grupo: ', df9.loc[0].keys()[j],' ',f\"{df9.loc[k][j]:,.0f}\")"
   ]
  },
  {
   "cell_type": "code",
   "execution_count": null,
   "id": "8587a174",
   "metadata": {},
   "outputs": [],
   "source": [
    "estructura(df9)"
   ]
  },
  {
   "cell_type": "code",
   "execution_count": null,
   "id": "7791a711",
   "metadata": {},
   "outputs": [],
   "source": [
    "df10=df9.copy()\n",
    "A=[x for x in range(0,14)]\n",
    "B=[x for x in range(81,148)]\n",
    "C=[x for x in range(215,225)]\n",
    "D=[x for x in range(292,359)]\n",
    "columnas=A+B+C+D"
   ]
  },
  {
   "cell_type": "code",
   "execution_count": null,
   "id": "0fa17122",
   "metadata": {},
   "outputs": [],
   "source": [
    "df9.loc[0][columnas]"
   ]
  },
  {
   "cell_type": "code",
   "execution_count": null,
   "id": "c62f2e49",
   "metadata": {},
   "outputs": [],
   "source": [
    "new_cols=[]\n",
    "for i in columnas:\n",
    "    new_cols.append(df9.loc[0].keys()[i])\n",
    "df10=df10[new_cols]"
   ]
  },
  {
   "cell_type": "code",
   "execution_count": null,
   "id": "15656993",
   "metadata": {},
   "outputs": [],
   "source": [
    "estructura(df10)"
   ]
  },
  {
   "cell_type": "code",
   "execution_count": null,
   "id": "ad9cf531",
   "metadata": {},
   "outputs": [],
   "source": [
    "a=list(df10.keys())\n",
    "b=a[14:81]"
   ]
  },
  {
   "cell_type": "code",
   "execution_count": null,
   "id": "d0e0ef13",
   "metadata": {},
   "outputs": [],
   "source": [
    "df10[b].sum(axis=1)"
   ]
  },
  {
   "cell_type": "code",
   "execution_count": null,
   "id": "7ef7ebbc",
   "metadata": {},
   "outputs": [],
   "source": [
    "estructura(df10)"
   ]
  },
  {
   "cell_type": "code",
   "execution_count": null,
   "id": "db5f7427",
   "metadata": {},
   "outputs": [],
   "source": [
    "a=list(df10.keys())\n",
    "b=a[86:]\n",
    "df10[b].sum(axis=1)"
   ]
  },
  {
   "cell_type": "code",
   "execution_count": null,
   "id": "45d2fadd",
   "metadata": {},
   "outputs": [],
   "source": [
    "df11=df10.copy()\n",
    "df11 = df11.loc[:, df11.any()]\n",
    "#solo columnas que no son totas nulas"
   ]
  },
  {
   "cell_type": "code",
   "execution_count": null,
   "id": "84d31f81",
   "metadata": {},
   "outputs": [],
   "source": [
    "estructura(df11)"
   ]
  },
  {
   "cell_type": "code",
   "execution_count": null,
   "id": "84a743be",
   "metadata": {},
   "outputs": [],
   "source": [
    "Name=input('Nombre de archivo Excel de salida:')\n",
    "salida=Name+'.xlsx'"
   ]
  },
  {
   "cell_type": "code",
   "execution_count": null,
   "id": "4928fb7a",
   "metadata": {},
   "outputs": [],
   "source": [
    "writer = pd.ExcelWriter(salida)\n",
    "df1.to_excel(writer,'datos ministerio')\n",
    "df11.to_excel(writer,'resultados')\n",
    "writer.save()\n",
    "writer.close()"
   ]
  },
  {
   "cell_type": "code",
   "execution_count": null,
   "id": "ece61f1e",
   "metadata": {},
   "outputs": [],
   "source": [
    "#PARTE IX: DESAPARECER PARTIDOS Y REASIGNAR VOTOS"
   ]
  },
  {
   "cell_type": "code",
   "execution_count": null,
   "id": "4c1a9c6b",
   "metadata": {},
   "outputs": [],
   "source": [
    "estructura(df8)"
   ]
  },
  {
   "cell_type": "code",
   "execution_count": null,
   "id": "a9a06928",
   "metadata": {},
   "outputs": [],
   "source": []
  }
 ],
 "metadata": {
  "jupytext": {
   "formats": "ipynb,py:light"
  },
  "kernelspec": {
   "display_name": "Python 3 (ipykernel)",
   "language": "python",
   "name": "python3"
  },
  "language_info": {
   "codemirror_mode": {
    "name": "ipython",
    "version": 3
   },
   "file_extension": ".py",
   "mimetype": "text/x-python",
   "name": "python",
   "nbconvert_exporter": "python",
   "pygments_lexer": "ipython3",
   "version": "3.11.3"
  }
 },
 "nbformat": 4,
 "nbformat_minor": 5
}
