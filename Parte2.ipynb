{
 "cells": [
  {
   "cell_type": "code",
   "execution_count": null,
   "id": "0eb9ee38",
   "metadata": {},
   "outputs": [],
   "source": [
    "#PARTE II: INTRODUCIR GRUPOS"
   ]
  },
  {
   "cell_type": "code",
   "execution_count": null,
   "id": "005e71ff",
   "metadata": {},
   "outputs": [],
   "source": [
    "vot_grupos=['VDERECHA',\n",
    "'VCENTRO',\n",
    "'VIZQUIERDA',\n",
    "'VNACIONALISTAS',\n",
    "'VOTROS']"
   ]
  },
  {
   "cell_type": "code",
   "execution_count": null,
   "id": "17f5c028",
   "metadata": {},
   "outputs": [],
   "source": [
    "import re\n",
    "#asignar a cada grupo sus partidos para votos\n",
    "B=vot_grupos\n",
    "list_vgroups = {key: None for key in B}\n",
    "for x in vot_grupos:#nombres de los grupos (CENTRO, DERECHA,...)\n",
    "    C=[]\n",
    "    \n",
    "    for i in df2.loc[2][:]:#nombres de los partidos (1,2,...NPARTIDOS)\n",
    "        if df2.loc[1][i] ==re.sub('V', '', x):\n",
    "            C.append(str(i)+'Votos')\n",
    "    #print(x,C)\n",
    "    list_vgroups[x]=C"
   ]
  },
  {
   "cell_type": "code",
   "execution_count": null,
   "id": "6d5372c4",
   "metadata": {},
   "outputs": [],
   "source": [
    "list_vgroups"
   ]
  },
  {
   "cell_type": "code",
   "execution_count": null,
   "id": "bb1391b9",
   "metadata": {},
   "outputs": [],
   "source": [
    "grupos=['DERECHA',\n",
    "'CENTRO',\n",
    "'IZQUIERDA',\n",
    "'NACIONALISTAS',\n",
    "'OTROS']"
   ]
  },
  {
   "cell_type": "code",
   "execution_count": null,
   "id": "93284675",
   "metadata": {},
   "outputs": [],
   "source": [
    "new_grupos=dict()\n",
    "for x in vot_grupos:\n",
    "    new_grupos[x] = list_groups[x[1:]]"
   ]
  },
  {
   "cell_type": "code",
   "execution_count": null,
   "id": "5609e37c",
   "metadata": {},
   "outputs": [],
   "source": [
    "#asignar a cada grupo sus partidos\n",
    "B=grupos\n",
    "list_dgroups = {key: None for key in B}\n",
    "for x in grupos:#nombres de los grupos (CENTRO, DERECHA,...)\n",
    "    C=[]\n",
    "    \n",
    "    for i in df2.loc[2][:]:#nombres de los partidos (1,2,...NPARTIDOS)\n",
    "        if df2.loc[1][i] ==x:\n",
    "            C.append(str(i)+'Diputados')\n",
    "    #print(x,C)\n",
    "    list_dgroups[x]=C"
   ]
  },
  {
   "cell_type": "code",
   "execution_count": null,
   "id": "4329d040",
   "metadata": {},
   "outputs": [],
   "source": [
    "list_dgroups"
   ]
  },
  {
   "cell_type": "code",
   "execution_count": null,
   "id": "334de008",
   "metadata": {},
   "outputs": [],
   "source": [
    "df1 = df1.reindex(columns =df1.columns.tolist() + grupos)\n",
    "df1 = df1.reindex(columns =df1.columns.tolist() + vot_grupos)\n",
    "df1 = df1.fillna(0)"
   ]
  },
  {
   "cell_type": "code",
   "execution_count": null,
   "id": "2754473a",
   "metadata": {},
   "outputs": [],
   "source": [
    "estructura(df1)"
   ]
  },
  {
   "cell_type": "code",
   "execution_count": null,
   "id": "cfaf1676",
   "metadata": {},
   "outputs": [],
   "source": [
    "df1=df0.copy()"
   ]
  },
  {
   "cell_type": "code",
   "execution_count": null,
   "id": "963922d0",
   "metadata": {},
   "outputs": [],
   "source": [
    "df1.loc[0]['VIZQUIERDA']"
   ]
  },
  {
   "cell_type": "code",
   "execution_count": null,
   "id": "802cffcd",
   "metadata": {},
   "outputs": [],
   "source": [
    "#votos por grupos por provincias\n",
    "for j in range (N_PROV):#provincias\n",
    "    print('\\n','PROVINCIA',df1.loc[j]['PROVINCIA'].strip(),f'{j:,.0f}','\\n')\n",
    "    S=0\n",
    "    for x in vot_grupos:#grupos de partidos\n",
    "        print(x, f'{df1.loc[j][list_vgroups[x]].sum():,.0f}')\n",
    "        S=S+df1.loc[j][list_vgroups[x]].sum()\n",
    "    print('--TOTAL VOTOS ',f'{S:,.0f}')"
   ]
  },
  {
   "cell_type": "code",
   "execution_count": null,
   "id": "55d6f992",
   "metadata": {},
   "outputs": [],
   "source": [
    "#diputados por grupos por provincias\n",
    "for j in range (N_PROV):#provincias\n",
    "    print('\\n','PROVINCIA',df1.loc[j]['PROVINCIA'].strip(),f'{j:,.0f}','\\n')\n",
    "    S=0\n",
    "    for x in grupos:#grupos de partidos\n",
    "        print(x, f'{df1.loc[j][list_dgroups[x]].sum():,.0f}')\n",
    "        S=S+df1.loc[j][list_dgroups[x]].sum()\n",
    "    print('--TOTAL DIPUTADOS ',f'{S:,.0f}')"
   ]
  },
  {
   "cell_type": "code",
   "execution_count": null,
   "id": "af6aba1b",
   "metadata": {},
   "outputs": [],
   "source": [
    "#votos por grupos por provincias\n",
    "for j in range (N_PROV):#provincias\n",
    "    S=0\n",
    "    for x in vot_grupos:#grupos de partidos\n",
    "        df1.loc[j,x]=df1.loc[j][list_vgroups[x]].sum()"
   ]
  },
  {
   "cell_type": "code",
   "execution_count": null,
   "id": "276f9e3e",
   "metadata": {},
   "outputs": [],
   "source": [
    "#diputados por grupos por provincias\n",
    "for j in range (N_PROV):#provincias\n",
    "    S=0\n",
    "    for x in grupos:#grupos de partidos\n",
    "        df1.loc[j,x]=df1.loc[j][list_dgroups[x]].sum()"
   ]
  },
  {
   "cell_type": "code",
   "execution_count": null,
   "id": "c644a880",
   "metadata": {},
   "outputs": [],
   "source": [
    "df1=df1.rename(columns=Var)"
   ]
  },
  {
   "cell_type": "code",
   "execution_count": null,
   "id": "6ef82b90",
   "metadata": {},
   "outputs": [],
   "source": [
    "df1.loc[0]['DERECHA']"
   ]
  },
  {
   "cell_type": "code",
   "execution_count": null,
   "id": "bd26ff22",
   "metadata": {},
   "outputs": [],
   "source": []
  }
 ],
 "metadata": {
  "jupytext": {
   "formats": "ipynb,auto:percent"
  },
  "kernelspec": {
   "display_name": "Python 3 (ipykernel)",
   "language": "python",
   "name": "python3"
  },
  "language_info": {
   "codemirror_mode": {
    "name": "ipython",
    "version": 3
   },
   "file_extension": ".py",
   "mimetype": "text/x-python",
   "name": "python",
   "nbconvert_exporter": "python",
   "pygments_lexer": "ipython3",
   "version": "3.11.3"
  }
 },
 "nbformat": 4,
 "nbformat_minor": 5
}
